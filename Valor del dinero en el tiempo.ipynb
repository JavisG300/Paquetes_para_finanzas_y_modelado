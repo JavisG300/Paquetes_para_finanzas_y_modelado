{
 "cells": [
  {
   "attachments": {},
   "cell_type": "markdown",
   "metadata": {},
   "source": [
    "## Valor futuro"
   ]
  },
  {
   "attachments": {},
   "cell_type": "markdown",
   "metadata": {},
   "source": [
    "Generalización para estimar el valor futuro del dinero.\n",
    "\n",
    "FV=PV*(1+R)<sup>n</sup>"
   ]
  },
  {
   "cell_type": "code",
   "execution_count": 1,
   "metadata": {},
   "outputs": [
    {
     "data": {
      "text/plain": [
       "-121.00000000000001"
      ]
     },
     "execution_count": 1,
     "metadata": {},
     "output_type": "execute_result"
    }
   ],
   "source": [
    "import numpy_financial as npf\n",
    "\"\"\" \n",
    "Se usa la librería numpy_financial para estimar el valor futuro\n",
    "\n",
    "Primer parámetro es la tasa\n",
    "Segundo parámetro es el número de periodos\n",
    "Tercer parámetro es por si se presentan pagos\n",
    "Cuarto parámetro es el monto inicial\n",
    "\n",
    "El signo del resultado  es debio a que la función npf.fv\n",
    "sigue la convención de signos de Excel: un valor futuro positivo \n",
    "conduce a un valor presente negativo y viceversa.\n",
    "\"\"\"\n",
    "npf.fv(0.1,2,0,100) #Valor futuro de $100 al final de dos años con tasa del 10%"
   ]
  },
  {
   "attachments": {},
   "cell_type": "markdown",
   "metadata": {},
   "source": [
    "De la formula anterior podemos obtener el valor presente como:\n",
    "\n",
    "$$\n",
    "PV=\\frac{FV}{(1+R)^{n}}\n",
    "$$"
   ]
  },
  {
   "cell_type": "code",
   "execution_count": 2,
   "metadata": {},
   "outputs": [
    {
     "name": "stdout",
     "output_type": "stream",
     "text": [
      "217.74871488824184\n"
     ]
    },
    {
     "data": {
      "text/plain": [
       "-217.74871488824184"
      ]
     },
     "execution_count": 2,
     "metadata": {},
     "output_type": "execute_result"
    }
   ],
   "source": [
    "#Planeamos tener$234 al final del 5 año y la tasa es de 1.45%\n",
    "\n",
    "print(234/(1+0.0145)**5)\n",
    "npf.pv(0.0145,5,0,234) #Con la librería numpy_financial\n"
   ]
  },
  {
   "attachments": {},
   "cell_type": "markdown",
   "metadata": {},
   "source": [
    "### Valor presente de una perpetuidad\n",
    "\n",
    "$$\n",
    "PV(perpetuidad)=\\frac{C}{R}\n",
    "$$\n",
    "\n",
    "Donde \n",
    "\n",
    "C= primer flujo de efevtivo\n",
    "\n",
    "R= tasa"
   ]
  },
  {
   "attachments": {},
   "cell_type": "markdown",
   "metadata": {},
   "source": [
    "### Valor presente de una perpetuidad creciente\n",
    "\n",
    "$$\n",
    "PV(perpetuidad creciente)=\\frac{C}{R-g}\n",
    "$$\n",
    "\n",
    "g = la tasa de crecimiento de los flujos de efectivo\n",
    "\n",
    "\n",
    "Para una perpetuidad, si el primer flujo de efectivo ocurre al final del periodo *k*, tenemos la siguiente formula:\n",
    "\n",
    "$$\n",
    "PV(perpetuidad, 1er flujo al final del k-ésimo periodo)=\\frac{1}{(1+R)^{k-1}}\\frac{C}{R-g}\n",
    "$$"
   ]
  },
  {
   "attachments": {},
   "cell_type": "markdown",
   "metadata": {},
   "source": [
    "### Valor presente y futuro de una anualidad\n",
    "\n",
    "$$\n",
    "PV(anualidad)=\\frac{C}{R}[(1+R)^{n}-1]\n",
    "$$\n",
    "\n",
    "$$\n",
    "FV(anualidad)=\\frac{C}{R}[(1+R)^{n}-1]\n",
    "$$\n",
    "\n",
    "En estas fórmulas se supone que los flujos de efectivo ocurren al final de los periodos, en una anualidad o perpetuidad, cuando los flujos de efectivo ocurren al comienzo de cada periodo, se denominan anualidad o perpetuidad anticipada"
   ]
  },
  {
   "cell_type": "code",
   "execution_count": 3,
   "metadata": {},
   "outputs": [
    {
     "data": {
      "text/plain": [
       "-191.32035152017377"
      ]
     },
     "execution_count": 3,
     "metadata": {},
     "output_type": "execute_result"
    }
   ],
   "source": [
    "#Ejemplo 1\n",
    "\"\"\"\n",
    "tasa = 1%\n",
    "flujo de caja anual = $20\n",
    "n = 10 años\n",
    "\n",
    "El primer flujo de efectivo se paga hoy\n",
    "\"\"\"\n",
    "npf.pv(0.01,10,20,0,1) #El último valor 1 =  anualidad anticipada"
   ]
  },
  {
   "attachments": {},
   "cell_type": "markdown",
   "metadata": {},
   "source": [
    "# Cálculo de los pagos de un préstamos y la tabla de amortización\n",
    "\n",
    "Supongamos que deseas comprar un automóvil por $15,000. Solo tienes $5,000. Un banco te presta $10,000 a una tasa del 7% de interés efectivo anual que debes devolver en 5 años. ¿Cuál es tu pago anual por el automóvil?. Y ¿la tabla de amortización?\n",
    "\n",
    "Antes de construir la tabla de amortización necesitamos calcular el pago anual de nuestro préstamo"
   ]
  },
  {
   "cell_type": "code",
   "execution_count": 4,
   "metadata": {},
   "outputs": [],
   "source": [
    "#Importando librerías, también se usa numpy_financial pero esta se importó previamente en el notebook\n",
    "import pandas as pd\n",
    "import numpy as np"
   ]
  },
  {
   "cell_type": "code",
   "execution_count": 5,
   "metadata": {},
   "outputs": [
    {
     "name": "stdout",
     "output_type": "stream",
     "text": [
      "2438.9069444137394\n"
     ]
    }
   ],
   "source": [
    "#Configurando las variables conocidas y calculando la cuota anual\n",
    "\n",
    "car_loan = 10000\n",
    "interest = 0.07\n",
    "years = 5\n",
    "car_payments = npf.pmt(rate=interest,nper=years,pv= -car_loan)\n",
    "print(car_payments)"
   ]
  },
  {
   "attachments": {},
   "cell_type": "markdown",
   "metadata": {},
   "source": [
    "Este resultado quiere decir que el préstamos nos costará $2438 en pagos anuales.\n",
    "\n",
    "Podemos crear una tabla de programación de pagos y ver como el saldo del préstamo se va reduciendo a 0"
   ]
  },
  {
   "cell_type": "code",
   "execution_count": 6,
   "metadata": {},
   "outputs": [
    {
     "name": "stdout",
     "output_type": "stream",
     "text": [
      "   Año  Saldo inicial  Pago  Intereses  Principal  Saldo final\n",
      "0  0.0            0.0   0.0        0.0        0.0          0.0\n",
      "1  0.0            0.0   0.0        0.0        0.0          0.0\n",
      "2  0.0            0.0   0.0        0.0        0.0          0.0\n",
      "3  0.0            0.0   0.0        0.0        0.0          0.0\n",
      "4  0.0            0.0   0.0        0.0        0.0          0.0\n"
     ]
    }
   ],
   "source": [
    "#Creamos una tabla de 5 filas y 6 columnas llenas de ceros\n",
    "loan_table = np.zeros((5,6))\n",
    "\n",
    "#Convertimos la tabla en un data frame\n",
    "\n",
    "loan_table = pd.DataFrame(loan_table)\n",
    "\n",
    "#Asigmnamos los nombres de las columnas\n",
    "\n",
    "loan_table.columns = ['Año', 'Saldo inicial', 'Pago', 'Intereses', 'Principal', 'Saldo final']\n",
    "\n",
    "print(loan_table)"
   ]
  },
  {
   "attachments": {},
   "cell_type": "markdown",
   "metadata": {},
   "source": [
    "Una vez tenemos construida la tabla podemos rellenarla. Necesitamos rellenar la primer fila manualmente"
   ]
  },
  {
   "cell_type": "code",
   "execution_count": 7,
   "metadata": {},
   "outputs": [
    {
     "name": "stdout",
     "output_type": "stream",
     "text": [
      "   Año  Saldo inicial         Pago  Intereses    Principal  Saldo final\n",
      "0  1.0        10000.0  2438.906944      700.0  1738.906944  8261.093056\n",
      "1  0.0            0.0     0.000000        0.0     0.000000     0.000000\n",
      "2  0.0            0.0     0.000000        0.0     0.000000     0.000000\n",
      "3  0.0            0.0     0.000000        0.0     0.000000     0.000000\n",
      "4  0.0            0.0     0.000000        0.0     0.000000     0.000000\n"
     ]
    }
   ],
   "source": [
    "# Fila 0 y columna 0 de año 1\n",
    "loan_table.iloc[0,0] = 1\n",
    "\n",
    "#Saldo incial es el monto del préstamo\n",
    "loan_table.iloc[0,1] = car_loan\n",
    "\n",
    "#Los pagos del automóvil son los calculados previamente\n",
    "loan_table.iloc[0,2]=car_payments\n",
    "\n",
    "#El pago incial es el monto del préstamo por los intereses\n",
    "loan_table.iloc[0,3]=car_loan * interest\n",
    "\n",
    "#El principal es el pago de la cuota menos los intereses\n",
    "loan_table.iloc[0,4]=  car_payments - (car_loan * interest)\n",
    "\n",
    "#El saldo final, es el saldo inicial menos el principal\n",
    "loan_table.iloc[0,5]=car_loan-(car_payments - (car_loan*interest))\n",
    "\n",
    "print(loan_table)"
   ]
  },
  {
   "attachments": {},
   "cell_type": "markdown",
   "metadata": {},
   "source": [
    "Una vez llena la primer fila, podemos ejecutar un ciclo for para calcular los demás valores"
   ]
  },
  {
   "cell_type": "code",
   "execution_count": 8,
   "metadata": {},
   "outputs": [
    {
     "name": "stdout",
     "output_type": "stream",
     "text": [
      "   Año  Saldo inicial     Pago  Intereses  Principal  Saldo final\n",
      "0  1.0       10000.00  2438.91     700.00    1738.91      8261.09\n",
      "1  2.0        8261.09  2438.91     578.28    1860.63      6400.46\n",
      "2  3.0        6400.46  2438.91     448.03    1990.87      4409.59\n",
      "3  4.0        4409.59  2438.91     308.67    2130.24      2279.35\n",
      "4  5.0        2279.35  2438.91     159.55    2279.35         0.00\n"
     ]
    }
   ],
   "source": [
    "for i in range(1,5):\n",
    "    loan_table.iloc[i,0] =i + 1 #Fila del año\n",
    "    loan_table.iloc[i,1] = loan_table.iloc[(i-1),5] #El saldo inicial es el saldo final de años anteriores\n",
    "    loan_table.iloc[i,2] = car_payments #Los pagos son la cuota por año\n",
    "    loan_table.iloc[i,3]= loan_table.iloc[i,1] * interest #El interes anual es el saldo incial * tasa de interés\n",
    "    loan_table.iloc[i,4] = car_payments - (loan_table.iloc[i,1] * interest) #Cuota menos los intereses\n",
    "    loan_table.iloc[i,5] = loan_table.iloc[i,1]- loan_table.iloc[i,4]#Saldo final =  saldo inicial - principal \n",
    "\n",
    "loan_table = loan_table.round(2) #Rendondeamos a 2 decimales\n",
    "\n",
    "print(loan_table)"
   ]
  },
  {
   "cell_type": "code",
   "execution_count": 9,
   "metadata": {},
   "outputs": [
    {
     "name": "stdout",
     "output_type": "stream",
     "text": [
      "10000.0 12194.55\n"
     ]
    }
   ],
   "source": [
    "total_principal = loan_table['Principal'].sum()\n",
    "total_pago = loan_table['Pago'].sum()\n",
    "print(total_principal, total_pago)\n"
   ]
  },
  {
   "attachments": {},
   "cell_type": "markdown",
   "metadata": {},
   "source": [
    "## Valor presente neto (VPN)\n",
    "\n",
    "$$VPN=VP(ingresos)-VP(egresos)$$\n",
    "\n",
    "Ejemplo: Le invitan a invertir $100 en un proyecto. Las entradas de efectivo en los próximos cinco años son $50, $60, $70, $100 y $20, a partir del primer año. Si la tasa de descuento es de 11.2%. ¿Cuál es el valor de VPN del proyecto?"
   ]
  },
  {
   "cell_type": "code",
   "execution_count": 10,
   "metadata": {},
   "outputs": [
    {
     "data": {
      "text/plain": [
       "121.55722687966407"
      ]
     },
     "execution_count": 10,
     "metadata": {},
     "output_type": "execute_result"
    }
   ],
   "source": [
    "#Dado que hay 6 flujos de efectivo nosotros podríamos hacer el cálculo manualmente\n",
    "r=0.112\n",
    "-100+50/(1+r)+60/(1+r)**2+70/(1+r)**3+100/(1+r)**4+20/(1+r)**5"
   ]
  },
  {
   "cell_type": "code",
   "execution_count": 11,
   "metadata": {},
   "outputs": [
    {
     "data": {
      "text/plain": [
       "121.55722687966407"
      ]
     },
     "execution_count": 11,
     "metadata": {},
     "output_type": "execute_result"
    }
   ],
   "source": [
    "#Usando la función vpn(rate, values), el proceso se simplifica bastante\n",
    "cashflows=[-100,50,60,70,100,20]\n",
    "npf.npv(0.112, cashflows)"
   ]
  },
  {
   "attachments": {},
   "cell_type": "markdown",
   "metadata": {},
   "source": [
    "El VPN está relacionado negativamente con la tasa de descuento. La razón es que cuando la tasa de descuento aumenta, el valor presente de los flujos de efectivo futuroa disminuirá más que los flujos de efectivo actuales o los primeros.\n",
    "\n",
    "El siguiente gráfico describe la relaxión entre el VPN y la tasa de descuento."
   ]
  },
  {
   "cell_type": "code",
   "execution_count": 13,
   "metadata": {},
   "outputs": [
    {
     "data": {
      "image/png": "[encoded data removed]",
      "text/plain": [
       "<Figure size 640x480 with 1 Axes>"
      ]
     },
     "metadata": {},
     "output_type": "display_data"
    }
   ],
   "source": [
    "from matplotlib.pyplot import *\n",
    "\n",
    "cashflows=[-120,50,60,70]\n",
    "rate=[]\n",
    "npv=[]\n",
    "\n",
    "for i in range(1,70):\n",
    "    rate.append(0.01*i)\n",
    "    npv.append(npf.npv(0.01*i, cashflows))\n",
    "\n",
    "plot(rate,npv)\n",
    "show()"
   ]
  },
  {
   "attachments": {},
   "cell_type": "markdown",
   "metadata": {},
   "source": [
    "La regla del VPN es simple:\n",
    "\n",
    "$$ VPN>0 \\text{ se acepta}$$\n",
    "$$ VPN<0 \\text{ se rechaza}$$"
   ]
  },
  {
   "attachments": {},
   "cell_type": "markdown",
   "metadata": {},
   "source": [
    "## TIR (tasa interna de rendimiento)\n",
    "\n",
    "Se define como la tasa que hace que el VPN sea igual a cero. Supongamos que invertimos $100 hoy y los flujos de efectivo futuros serán de $30, $40, $40, y $50 por los próximos 4 años. Suponiendo que los flujos de efectivo ocurran al final del año, ¿Cuál es la TIR de esta inversión?"
   ]
  },
  {
   "cell_type": "code",
   "execution_count": 14,
   "metadata": {},
   "outputs": [
    {
     "data": {
      "text/plain": [
       "0.2001879105140867"
      ]
     },
     "execution_count": 14,
     "metadata": {},
     "output_type": "execute_result"
    }
   ],
   "source": [
    "cashflows = [-100, 30, 40, 40, 50]\n",
    "npf.irr(cashflows)"
   ]
  },
  {
   "cell_type": "code",
   "execution_count": 15,
   "metadata": {},
   "outputs": [
    {
     "data": {
      "text/plain": [
       "1.7763568394002505e-14"
      ]
     },
     "execution_count": 15,
     "metadata": {},
     "output_type": "execute_result"
    }
   ],
   "source": [
    "#Verificando que esta tasa hace el VPN = 0\n",
    "\n",
    "r=npf.irr(cashflows)\n",
    "npf.npv(r, cashflows)"
   ]
  },
  {
   "attachments": {},
   "cell_type": "markdown",
   "metadata": {},
   "source": [
    "Para un proyecyo, la regla TIR se da:\n",
    "\n",
    "$$\\text{si } TIR > Rc \\text{ se acepta} $$\n",
    "$$\\text{si } TIR < Rc \\text{ se rechaza} $$\n",
    "\n",
    "Donde $Rc$ = costo de capital"
   ]
  }
 ],
 "metadata": {
  "kernelspec": {
   "display_name": "Python 3",
   "language": "python",
   "name": "python3"
  },
  "language_info": {
   "codemirror_mode": {
    "name": "ipython",
    "version": 3
   },
   "file_extension": ".py",
   "mimetype": "text/x-python",
   "name": "python",
   "nbconvert_exporter": "python",
   "pygments_lexer": "ipython3",
   "version": "3.11.2"
  },
  "orig_nbformat": 4
 },
 "nbformat": 4,
 "nbformat_minor": 2
}
